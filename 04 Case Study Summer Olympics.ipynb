{
 "cells": [
  {
   "cell_type": "markdown",
   "metadata": {},
   "source": [
    "## Loading Olympic edition DataFrame"
   ]
  },
  {
   "cell_type": "raw",
   "metadata": {},
   "source": [
    "In this chapter, you'll be using The Guardian's Olympic medal dataset.\n",
    "\n",
    "Your first task here is to prepare a DataFrame editions from a tab-separated values (TSV) file.\n",
    "\n",
    "Initially, editions has 26 rows (one for each Olympic edition, i.e., a year in which the Olympics was held) and 7 columns: 'Edition', 'Bronze', 'Gold', 'Silver', 'Grand Total', 'City', and 'Country'.\n",
    "\n",
    "For the analysis that follows, you won't need the overall medal counts, so you want to keep only the useful columns from editions: 'Edition', 'Grand Total', City, and Country."
   ]
  },
  {
   "cell_type": "raw",
   "metadata": {},
   "source": [
    "INSTRUCTIONS\n",
    "\n",
    "Read file_path into a DataFrame called editions. The identifier file_path has been pre-defined with the filename 'Summer Olympic medallists 1896 to 2008 - EDITIONS.tsv'. You'll have to use the option sep='\\t' because the file uses tabs to delimit fields (pd.read_csv() expects commas by default).\n",
    "Select only the columns 'Edition', 'Grand Total', 'City', and 'Country' from editions.\n",
    "Print the final DataFrame editions in entirety (there are only 26 rows). This has been done for you, so hit 'Submit Answer' to see the result!"
   ]
  },
  {
   "cell_type": "code",
   "execution_count": 6,
   "metadata": {},
   "outputs": [
    {
     "name": "stdout",
     "output_type": "stream",
     "text": [
      "    Edition  Grand Total         City                     Country\n",
      "0      1896          151       Athens                      Greece\n",
      "1      1900          512        Paris                      France\n",
      "2      1904          470    St. Louis               United States\n",
      "3      1908          804       London              United Kingdom\n",
      "4      1912          885    Stockholm                      Sweden\n",
      "5      1920         1298      Antwerp                     Belgium\n",
      "6      1924          884        Paris                      France\n",
      "7      1928          710    Amsterdam                 Netherlands\n",
      "8      1932          615  Los Angeles               United States\n",
      "9      1936          875       Berlin                     Germany\n",
      "10     1948          814       London              United Kingdom\n",
      "11     1952          889     Helsinki                     Finland\n",
      "12     1956          885    Melbourne                   Australia\n",
      "13     1960          882         Rome                       Italy\n",
      "14     1964         1010        Tokyo                       Japan\n",
      "15     1968         1031  Mexico City                      Mexico\n",
      "16     1972         1185       Munich  West Germany (now Germany)\n",
      "17     1976         1305     Montreal                      Canada\n",
      "18     1980         1387       Moscow       U.S.S.R. (now Russia)\n",
      "19     1984         1459  Los Angeles               United States\n",
      "20     1988         1546        Seoul                 South Korea\n",
      "21     1992         1705    Barcelona                       Spain\n",
      "22     1996         1859      Atlanta               United States\n",
      "23     2000         2015       Sydney                   Australia\n",
      "24     2004         1998       Athens                      Greece\n",
      "25     2008         2042      Beijing                       China\n"
     ]
    }
   ],
   "source": [
    "#Import pandas\n",
    "import pandas as pd\n",
    "\n",
    "# Create file path: file_path\n",
    "file_path = 'Summer Olympic medalists 1896 to 2008 - EDITIONS.tsv'\n",
    "\n",
    "# Load DataFrame from file_path: editions\n",
    "editions = pd.read_csv(file_path, sep='\\t')\n",
    "\n",
    "\n",
    "# Extract the relevant columns: editions\n",
    "editions = editions[['Edition', 'Grand Total', 'City', 'Country']]\n",
    "\n",
    "# Print editions DataFrame\n",
    "print(editions)"
   ]
  },
  {
   "cell_type": "markdown",
   "metadata": {},
   "source": [
    "## Loading IOC codes DataFrame"
   ]
  },
  {
   "cell_type": "raw",
   "metadata": {},
   "source": [
    "Your task here is to prepare a DataFrame ioc_codes from a comma-separated values (CSV) file.\n",
    "\n",
    "Initially, ioc_codes has 200 rows (one for each country) and 3 columns: 'Country', 'NOC', & 'ISO code'.\n",
    "\n",
    "For the analysis that follows, you want to keep only the useful columns from ioc_codes: 'Country' and 'NOC' (the column 'NOC' contains three-letter codes representing each country)."
   ]
  },
  {
   "cell_type": "raw",
   "metadata": {},
   "source": [
    "INSTRUCTIONS\n",
    "\n",
    "Read file_path into a DataFrame called ioc_codes. The identifier file_path has been pre-defined with the filename 'Summer Olympic medallists 1896 to 2008 - IOC COUNTRY CODES.csv'.\n",
    "Select only the columns 'Country' and 'NOC' from ioc_codes.\n",
    "Print the leading 5 and trailing 5 rows of the DataFrame ioc_codes (there are 200 rows in total). This has been done for you, so hit 'Submit Answer' to see the result!"
   ]
  },
  {
   "cell_type": "code",
   "execution_count": 9,
   "metadata": {},
   "outputs": [
    {
     "name": "stdout",
     "output_type": "stream",
     "text": [
      "           Country  NOC\n",
      "0      Afghanistan  AFG\n",
      "1          Albania  ALB\n",
      "2          Algeria  ALG\n",
      "3  American Samoa*  ASA\n",
      "4          Andorra  AND\n",
      "             Country  NOC\n",
      "196          Vietnam  VIE\n",
      "197  Virgin Islands*  ISV\n",
      "198            Yemen  YEM\n",
      "199           Zambia  ZAM\n",
      "200         Zimbabwe  ZIM\n"
     ]
    }
   ],
   "source": [
    "# Import pandas\n",
    "import pandas as pd\n",
    "\n",
    "# Create the file path: file_path\n",
    "file_path = 'Summer Olympic medalists 1896 to 2008 - IOC COUNTRY CODES.csv'\n",
    "\n",
    "# Load DataFrame from file_path: ioc_codes\n",
    "ioc_codes = pd.read_csv(file_path)\n",
    "\n",
    "# Extract the relevant columns: ioc_codes\n",
    "ioc_codes = ioc_codes[['Country', 'NOC']]\n",
    "\n",
    "# Print first and last 5 rows of ioc_codes\n",
    "print(ioc_codes.head())\n",
    "print(ioc_codes.tail())"
   ]
  },
  {
   "cell_type": "markdown",
   "metadata": {},
   "source": [
    "## Building medals DataFrame "
   ]
  },
  {
   "cell_type": "raw",
   "metadata": {},
   "source": [
    "Here, you'll start with the DataFrame editions from the previous exercise.\n",
    "\n",
    "You have a sequence of files summer_1896.csv, summer_1900.csv, ..., summer_2008.csv, one for each Olympic edition (year).\n",
    "\n",
    "You will build up a dictionary medals_dict with the Olympic editions (years) as keys and DataFrames as values.\n",
    "\n",
    "The dictionary is built up inside a loop over the year of each Olympic edition (from the Index of editions).\n",
    "\n",
    "Once the dictionary of DataFrames is built up, you will combine the DataFrames using pd.concat()."
   ]
  },
  {
   "cell_type": "raw",
   "metadata": {},
   "source": [
    "INSTRUCTIONS\n",
    "\n",
    "Within the for loop:\n",
    "Create the file path. This has been done for you.\n",
    "Read file_path into a DataFrame. Assign the result to the year key of medals_dict.\n",
    "Select only the columns 'Athlete', 'NOC', and 'Medal' from medals_dict[year].\n",
    "Create a new column called 'Edition' in the DataFrame medals_dict[year] whose entries are all year.\n",
    "Concatenate the dictionary of DataFrames medals_dict into a DataFame called medals. Specify the keyword argument ignore_index=True to prevent repeated integer indices.\n",
    "Print the first and last 5 rows of medals. This has been done for you, so hit 'Submit Answer' to see the result!"
   ]
  },
  {
   "cell_type": "raw",
   "metadata": {},
   "source": [
    "# Import pandas\n",
    "import pandas as pd\n",
    "\n",
    "# Create empty dictionary: medals_dict\n",
    "medals_dict = {}\n",
    "\n",
    "for year in editions['Edition']:\n",
    "\n",
    "    # Create the file path: file_path\n",
    "    file_path = 'summer_{:d}.csv'.format(year)\n",
    "    \n",
    "    # Load file_path into a DataFrame: medals_dict[year]\n",
    "    medals_dict[year] = pd.read_csv(file_path)\n",
    "    \n",
    "    # Extract relevant columns: medals_dict[year]\n",
    "    medals_dict[year] = medals_dict[year][['Athlete', 'NOC', 'Medal']]\n",
    "    \n",
    "    # Assign year to column 'Edition' of medals_dict\n",
    "    medals_dict[year]['Edition'] = year \n",
    "    \n",
    "# Concatenate medals_dict: medals\n",
    "medals = pd.concat(medals_dict, ignore_index=True)\n",
    "\n",
    "# Print first and last 5 rows of medals\n",
    "print(medals.head())\n",
    "print(medals.tail())"
   ]
  },
  {
   "cell_type": "markdown",
   "metadata": {},
   "source": [
    "## Counting medals by country/edition in a pivot table"
   ]
  },
  {
   "cell_type": "raw",
   "metadata": {},
   "source": [
    "Here, you'll start with the concatenated DataFrame medals from the previous exercise.\n",
    "\n",
    "You can construct a pivot table to see the number of medals each country won in each year. The result is a new DataFrame with the Olympic edition on the Index and with 138 country NOC codes as columns. If you want a refresher on pivot tables, it may be useful to refer back to the relevant exercises in Manipulating DataFrames with pandas."
   ]
  },
  {
   "cell_type": "raw",
   "metadata": {},
   "source": [
    "INSTRUCTIONS\n",
    "\n",
    "Construct a pivot table from the DataFrame medals, aggregating by count (by specifying the aggfunc parameter). Use 'Edition' as the Index, 'Athlete' for the values, and 'NOC' for the columns.\n",
    "Print the first & last 5 rows of medal_counts. This has been done for you, so hit 'Submit Answer' to see the results!"
   ]
  },
  {
   "cell_type": "raw",
   "metadata": {},
   "source": [
    "# Construct the pivot_table: medal_counts\n",
    "medal_counts = medals.pivot_table(aggfunc='count', index='Edition', values='Athlete', columns='NOC')\n",
    "\n",
    "# Print the first & last 5 rows of medal_counts\n",
    "print(medal_counts.head())\n",
    "print(medal_counts.tail())"
   ]
  },
  {
   "cell_type": "markdown",
   "metadata": {},
   "source": [
    "## Computing fraction of medals per Olympic edition"
   ]
  },
  {
   "cell_type": "raw",
   "metadata": {},
   "source": [
    "In this exercise, you'll start with the DataFrames editions, medals, & medal_counts from prior exercises.\n",
    "\n",
    "You can extract a Series with the total number of medals awarded in each Olympic edition.\n",
    "\n",
    "The DataFrame medal_counts can be divided row-wise by the total number of medals awarded each edition; the method .divide() performs the broadcast as you require.\n",
    "\n",
    "This gives you a normalized indication of each country's performance in each edition.\n"
   ]
  },
  {
   "cell_type": "raw",
   "metadata": {},
   "source": [
    "INSTRUCTIONS\n",
    "\n",
    "Set the index of the DataFrame editions to be 'Edition' (using the method .set_index()). Save the result as totals.\n",
    "Extract the 'Grand Total' column from totals and assign the result back to totals.\n",
    "Divide the DataFrame medal_counts by totals along each row. You will have to use the .divide() method with the option axis='rows'. Assign the result to fractions.\n",
    "Print first & last 5 rows of the DataFrame fractions. This has been done for you, so hit 'Submit Answer' to see the results!"
   ]
  },
  {
   "cell_type": "code",
   "execution_count": null,
   "metadata": {},
   "outputs": [],
   "source": [
    "# Set Index of editions: totals\n",
    "totals = editions.set_index('Edition')\n",
    "\n",
    "# Reassign totals['Grand Total']: totals\n",
    "totals = totals['Grand Total']\n",
    "\n",
    "# Divide medal_counts by totals: fractions\n",
    "fractions = medal_counts.divide(totals, axis='rows')\n",
    "\n",
    "# Print first & last 5 rows of fractions\n",
    "print(fractions.head())\n",
    "print(fractions.tail())"
   ]
  },
  {
   "cell_type": "markdown",
   "metadata": {},
   "source": [
    "## Computing percentage change in fraction of medals won"
   ]
  },
  {
   "cell_type": "raw",
   "metadata": {},
   "source": [
    "Here, you'll start with the DataFrames editions, medals, medal_counts, & fractions from prior exercises.\n",
    "\n",
    "To see if there is a host country advantage, you first want to see how the fraction of medals won changes from edition to edition.\n",
    "\n",
    "The expanding mean provides a way to see this down each column. It is the value of the mean with all the data available up to that point in time. If you are interested in learning more about pandas' expanding transformations, this section of the pandas documentation has additional information."
   ]
  },
  {
   "cell_type": "raw",
   "metadata": {},
   "source": [
    "INSTRUCTIONS\n",
    "\n",
    "Create mean_fractions by chaining the methods .expanding().mean() to fractions.\n",
    "Compute the percentage change in mean_fractions down each column by applying .pct_change() and multiplying by 100. Assign the result to fractions_change.\n",
    "Reset the index of fractions_change using the .reset_index() method. This will make 'Edition' an ordinary column.\n",
    "Print the first and last 5 rows of the DataFrame fractions. This has been done for you, so hit 'Submit Answer' to see the results!"
   ]
  },
  {
   "cell_type": "code",
   "execution_count": null,
   "metadata": {},
   "outputs": [],
   "source": [
    "# Apply the expanding mean: mean_fractions\n",
    "mean_fractions = fractions.expanding().mean()\n",
    "\n",
    "# Compute the percentage change: fractions_change\n",
    "fractions_change = mean_fractions.pct_change() * 100\n",
    "\n",
    "# Reset the index of fractions_change: fractions_change\n",
    "fractions_change = fractions_change.reset_index()\n",
    "\n",
    "# Print first & last 5 rows of fractions_change\n",
    "print(fractions_change.head())\n",
    "print(fractions_change.tail())"
   ]
  },
  {
   "cell_type": "markdown",
   "metadata": {},
   "source": [
    "## Building hosts DataFrame\n"
   ]
  },
  {
   "cell_type": "raw",
   "metadata": {},
   "source": [
    "Your task here is to prepare a DataFrame hosts by left joining editions and ioc_codes.\n",
    "\n",
    "Once created, you will subset the Edition and NOC columns and set Edition as the Index.\n",
    "\n",
    "There are some missing NOC values; you will set those explicitly.\n",
    "\n",
    "Finally, you'll reset the Index & print the final DataFrame."
   ]
  },
  {
   "cell_type": "raw",
   "metadata": {},
   "source": [
    "INSTRUCTIONS\n",
    "\n",
    "Create the DataFrame hosts by doing a left join on DataFrames editions and ioc_codes (using pd.merge()).\n",
    "Clean up hosts by subsetting and setting the Index.\n",
    "Extract the columns 'Edition' and 'NOC'.\n",
    "Set 'Edition' column as the Index.\n",
    "Use the .loc[] accessor to find and assign the missing values to the 'NOC' column in hosts. This has been done for you.\n",
    "Reset the index of hosts using .reset_index(), and then hit 'Submit Answer' to see what hosts looks like!"
   ]
  },
  {
   "cell_type": "code",
   "execution_count": null,
   "metadata": {},
   "outputs": [],
   "source": [
    "# Import pandas\n",
    "import pandas as pd\n",
    "\n",
    "# Left join editions and ioc_codes: hosts\n",
    "hosts = pd.merge(editions, ioc_codes, how='left')\n",
    "\n",
    "# Extract relevant columns and set index: hosts\n",
    "hosts = hosts[['Edition','NOC']].set_index('Edition')\n",
    "\n",
    "# Fix missing 'NOC' values of hosts\n",
    "print(hosts.loc[hosts.NOC.isnull()])\n",
    "hosts.loc[1972, 'NOC'] = 'FRG'\n",
    "hosts.loc[1980, 'NOC'] = 'URS'\n",
    "hosts.loc[1988, 'NOC'] = 'KOR'\n",
    "\n",
    "# Reset Index of hosts: hosts\n",
    "hosts = hosts.reset_index()\n",
    "\n",
    "# Print hosts\n",
    "print(hosts)"
   ]
  },
  {
   "cell_type": "markdown",
   "metadata": {},
   "source": [
    "## Reshaping for analysis"
   ]
  },
  {
   "cell_type": "raw",
   "metadata": {},
   "source": [
    "This exercise starts off with fractions_change and hosts already loaded.\n",
    "\n",
    "Your task here is to reshape the fractions_change DataFrame for later analysis.\n",
    "\n",
    "Initially, fractions_change is a wide DataFrame of 26 rows (one for each Olympic edition) and 139 columns (one for the edition and 138 for the competing countries).\n",
    "\n",
    "On reshaping with pd.melt(), as you will see, the result is a tall DataFrame with 3588 rows and 3 columns that summarizes the fractional change in the expanding mean of the percentage of medals won for each country in blocks."
   ]
  },
  {
   "cell_type": "raw",
   "metadata": {},
   "source": [
    "INSTRUCTIONS\n",
    "\n",
    "Create a DataFrame reshaped by reshaping the DataFrame fractions_change with pd.melt().\n",
    "You'll need to use the keyword argument id_vars='Edition' to set the identifier variable.\n",
    "You'll also need to use the keyword argument value_name='Change' to set the measured variables.\n",
    "Print the shape of the DataFrames reshaped and fractions_change. This has been done for you.\n",
    "Create a DataFrame chn by extracting all the rows from reshaped in which the three letter code for each country ('NOC') is 'CHN'.\n",
    "Print the last 5 rows of the DataFrame chn using the .tail() method. This has been done for you, so hit 'Submit Answer' to see the results!"
   ]
  },
  {
   "cell_type": "code",
   "execution_count": null,
   "metadata": {},
   "outputs": [],
   "source": [
    "# Import pandas\n",
    "import pandas as pd\n",
    "\n",
    "# Reshape fractions_change: reshaped\n",
    "reshaped = pd.melt(fractions_change, id_vars='Edition', value_name='Change')\n",
    "\n",
    "# Print reshaped.shape and fractions_change.shape\n",
    "print(reshaped.shape, fractions_change.shape)\n",
    "\n",
    "# Extract rows from reshaped where 'NOC' == 'CHN': chn\n",
    "chn = reshaped.loc[reshaped.NOC == 'CHN']\n",
    "\n",
    "# Print last 5 rows of chn with .tail()\n",
    "print(chn.tail())"
   ]
  },
  {
   "cell_type": "markdown",
   "metadata": {},
   "source": [
    "## Merging to compute influence"
   ]
  },
  {
   "cell_type": "raw",
   "metadata": {},
   "source": [
    "This exercise starts off with the DataFrames reshaped and hosts in the namespace.\n",
    "\n",
    "Your task is to merge the two DataFrames and tidy the result.\n",
    "\n",
    "The end result is a DataFrame summarizing the fractional change in the expanding mean of the percentage of medals won for the host country in each Olympic edition."
   ]
  },
  {
   "cell_type": "raw",
   "metadata": {},
   "source": [
    "INSTRUCTIONS\n",
    "\n",
    "Merge reshaped and hosts using an inner join. Remember, how='inner' is the default behavior for pd.merge().\n",
    "Print the first 5 rows of the DataFrame merged. This has been done for you. You should see that the rows are jumbled chronologically.\n",
    "Set the index of merged to be 'Edition' and sort the index.\n",
    "Print the first 5 rows of the DataFrame influence. This has been done for you, so hit 'Submit Answer' to see the results!"
   ]
  },
  {
   "cell_type": "code",
   "execution_count": 12,
   "metadata": {},
   "outputs": [
    {
     "ename": "NameError",
     "evalue": "name 'reshaped' is not defined",
     "output_type": "error",
     "traceback": [
      "\u001b[1;31m---------------------------------------------------------------------------\u001b[0m",
      "\u001b[1;31mNameError\u001b[0m                                 Traceback (most recent call last)",
      "\u001b[1;32m<ipython-input-12-faac82a06825>\u001b[0m in \u001b[0;36m<module>\u001b[1;34m\u001b[0m\n\u001b[0;32m      3\u001b[0m \u001b[1;33m\u001b[0m\u001b[0m\n\u001b[0;32m      4\u001b[0m \u001b[1;31m# Merge reshaped and hosts: merged\u001b[0m\u001b[1;33m\u001b[0m\u001b[1;33m\u001b[0m\u001b[1;33m\u001b[0m\u001b[0m\n\u001b[1;32m----> 5\u001b[1;33m \u001b[0mmerged\u001b[0m \u001b[1;33m=\u001b[0m \u001b[0mpd\u001b[0m\u001b[1;33m.\u001b[0m\u001b[0mmerge\u001b[0m\u001b[1;33m(\u001b[0m\u001b[0mreshaped\u001b[0m\u001b[1;33m,\u001b[0m \u001b[0mhosts\u001b[0m\u001b[1;33m,\u001b[0m \u001b[0mhow\u001b[0m\u001b[1;33m=\u001b[0m\u001b[1;34m'inner'\u001b[0m\u001b[1;33m)\u001b[0m\u001b[1;33m\u001b[0m\u001b[1;33m\u001b[0m\u001b[0m\n\u001b[0m\u001b[0;32m      6\u001b[0m \u001b[1;33m\u001b[0m\u001b[0m\n\u001b[0;32m      7\u001b[0m \u001b[1;31m# Print first 5 rows of merged\u001b[0m\u001b[1;33m\u001b[0m\u001b[1;33m\u001b[0m\u001b[1;33m\u001b[0m\u001b[0m\n",
      "\u001b[1;31mNameError\u001b[0m: name 'reshaped' is not defined"
     ]
    }
   ],
   "source": [
    "# Import pandas\n",
    "import pandas as pd\n",
    "\n",
    "# Merge reshaped and hosts: merged\n",
    "merged = pd.merge(reshaped, hosts, how='inner')\n",
    "\n",
    "# Print first 5 rows of merged\n",
    "print(merged.head())\n",
    "\n",
    "# Set Index of merged and sort it: influence\n",
    "influence = merged.set_index('Edition').sort_index()\n",
    "\n",
    "# Print first 5 rows of influence\n",
    "print(influence.head())"
   ]
  },
  {
   "cell_type": "markdown",
   "metadata": {},
   "source": [
    "## Plotting influence of host country"
   ]
  },
  {
   "cell_type": "raw",
   "metadata": {},
   "source": [
    "This final exercise starts off with the DataFrames influence and editions in the namespace. Your job is to plot the influence of being a host country."
   ]
  },
  {
   "cell_type": "raw",
   "metadata": {},
   "source": [
    "INSTRUCTIONS\n",
    "\n",
    "Create a Series called change by extracting the 'Change' column from influence.\n",
    "Create a bar plot of change using the .plot() method with kind='bar'. Save the result as ax to permit further customization.\n",
    "Customize the bar plot of change to improve readability:\n",
    "Apply the method .set_ylabel(\"% Change of Host Country Medal Count\") toax.\n",
    "Apply the method .set_title(\"Is there a Host Country Advantage?\") to ax.\n",
    "Apply the method .set_xticklabels(editions['City']) to ax.\n",
    "Reveal the final plot using plt.show()."
   ]
  },
  {
   "cell_type": "code",
   "execution_count": null,
   "metadata": {},
   "outputs": [],
   "source": [
    "# Import pyplot\n",
    "import matplotlib.pyplot as plt\n",
    "\n",
    "# Extract influence['Change']: change\n",
    "change = influence['Change']\n",
    "\n",
    "# Make bar plot of change: ax\n",
    "ax = change.plot(kind='bar')\n",
    "\n",
    "# Customize the plot to improve readability\n",
    "ax.set_ylabel(\"% Change of Host Country Medal Count\")\n",
    "ax.set_title(\"Is there a Host Country Advantage?\")\n",
    "ax.set_xticklabels(editions['City'])\n",
    "\n",
    "# Display the plot\n",
    "plt.show()"
   ]
  }
 ],
 "metadata": {
  "kernelspec": {
   "display_name": "Python 3",
   "language": "python",
   "name": "python3"
  },
  "language_info": {
   "codemirror_mode": {
    "name": "ipython",
    "version": 3
   },
   "file_extension": ".py",
   "mimetype": "text/x-python",
   "name": "python",
   "nbconvert_exporter": "python",
   "pygments_lexer": "ipython3",
   "version": "3.7.1"
  }
 },
 "nbformat": 4,
 "nbformat_minor": 2
}
